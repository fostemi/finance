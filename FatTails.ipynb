{
 "cells": [
  {
   "cell_type": "code",
   "execution_count": 24,
   "metadata": {},
   "outputs": [],
   "source": [
    "import numpy as np "
   ]
  },
  {
   "cell_type": "code",
   "execution_count": 17,
   "metadata": {},
   "outputs": [],
   "source": [
    "class myAccount:\n",
    "    \n",
    "    def __init__(self, balance):\n",
    "        self.balance = balance\n",
    "        \n",
    "    def getBalance(self):\n",
    "        return self.balance\n",
    "    \n",
    "    def depositFunds(self, amount):\n",
    "        self.balance += amount\n",
    "        "
   ]
  },
  {
   "cell_type": "code",
   "execution_count": 23,
   "metadata": {},
   "outputs": [],
   "source": [
    "#Fat tails document\n",
    "tvbs_d1 = lambda p,s,t,r,v: (np.log(p/s)+(r+(v**2)/2)*t)/(v*np.sqrt(t))\n",
    "tvbs_d2 = lambda p,s,t,r,v: d1(p,s,t,r,v)-v*np.sqrt(t)\n",
    "tvbs = lambda p,s,t,r,v: p*d1(p,s,t,r,v)-s*np.exp(-r*t)*d2(p,s,t,r,v)"
   ]
  },
  {
   "cell_type": "code",
   "execution_count": null,
   "metadata": {},
   "outputs": [],
   "source": [
    "spot_price = 123.80 #Apple's current stock price\n",
    "strike_price = 120.00 #Arbitrary strike price ITM\n",
    "experation_time = 2 #Amount of years for expiration\n",
    "forward_price = lambda s,r,bc,t: s*((1+r)**t)/((1+bc)**t)\n",
    "rate_long = .03 #risk free interest rate for apple\n",
    "borrow_cost = .07 #Borrow cost of goldman sachs for a 10k loan\n",
    "sigma_ft = 1 #volatility will calculate later\n",
    "skew = 0 #Skewness will calculate later\n",
    "kurtosis = 0 #Will calculate later\n",
    "tau_bs = \n",
    "moneyness = (np.log(strike_price/forward_price)/(sigma_ft*sqrt(experation_time)))\n",
    "             -(1/2)*sigma_ft*sqrt(experation_time)\n",
    "normal_dist = (1/(sqrt(2*np.pi))) * np.exp()"
   ]
  }
 ],
 "metadata": {
  "kernelspec": {
   "display_name": "Python 3",
   "language": "python",
   "name": "python3"
  },
  "language_info": {
   "codemirror_mode": {
    "name": "ipython",
    "version": 3
   },
   "file_extension": ".py",
   "mimetype": "text/x-python",
   "name": "python",
   "nbconvert_exporter": "python",
   "pygments_lexer": "ipython3",
   "version": "3.7.3"
  }
 },
 "nbformat": 4,
 "nbformat_minor": 2
}
